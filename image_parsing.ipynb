{
 "cells": [
  {
   "cell_type": "code",
   "execution_count": 31,
   "metadata": {},
   "outputs": [
    {
     "data": {
      "text/plain": [
       "['.ipynb_checkpoints',\n",
       " 'image_parsing.ipynb',\n",
       " 'metadata.csv',\n",
       " 'stac',\n",
       " 'stac.tar',\n",
       " 'submission_format.csv',\n",
       " 'training_images',\n",
       " 'train_labels.csv']"
      ]
     },
     "execution_count": 31,
     "metadata": {},
     "output_type": "execute_result"
    }
   ],
   "source": [
    "import os\n",
    "import tarfile\n",
    "import rasterio\n",
    "from rasterio.plot import reshape_as_image\n",
    "from rasterio.mask import mask\n",
    "from rasterio.features import rasterize\n",
    "import pandas as pd\n",
    "import geopandas as gpd\n",
    "import shapely\n",
    "from shapely.geometry import mapping\n",
    "import numpy as np\n",
    "import cv2\n",
    "import matplotlib.pyplot as plt\n",
    "\n",
    "# contest df load\n",
    "meta = pd.read_csv(\"metadata.csv\")\n",
    "train_labels = pd.read_csv(\"train_labels.csv\")\n",
    "submission = pd.read_csv(\"submission_format.csv\")\n",
    "\n",
    "# tiff and geojson file paths\n",
    "\n",
    "train_tiff_paths = meta.image.values\n",
    "test_tiff_paths = train_tiff_paths[[0, 1, 3, 5, 6]]\n",
    "train_geo_paths = meta.train.values\n",
    "test_geo_paths = meta.test.values\n",
    "\n",
    "# example path\n",
    "\n",
    "%matplotlib inline\n",
    "\n",
    "#extracting stac from .tar file\n",
    "\n",
    "stac_tar = tarfile.open(\"stac.tar\", mode = \"r\")\n",
    "stac_tar.extract(\"stac\")\n",
    "\n",
    "#checking function worked- stac is in wd\n",
    "\n",
    "os.listdir()"
   ]
  },
  {
   "cell_type": "code",
   "execution_count": 291,
   "metadata": {},
   "outputs": [
    {
     "data": {
      "text/plain": [
       "array(['stac/guatemala/mixco_1_and_ebenezer/train-mixco_1_and_ebenezer.geojson',\n",
       "       'stac/guatemala/mixco_3/train-mixco_3.geojson',\n",
       "       'stac/st_lucia/castries/train-castries.geojson',\n",
       "       'stac/st_lucia/dennery/train-dennery.geojson',\n",
       "       'stac/st_lucia/gros_islet/train-gros_islet.geojson',\n",
       "       'stac/colombia/borde_rural/train-borde_rural.geojson',\n",
       "       'stac/colombia/borde_soacha/train-borde_soacha.geojson'],\n",
       "      dtype=object)"
      ]
     },
     "execution_count": 291,
     "metadata": {},
     "output_type": "execute_result"
    }
   ],
   "source": [
    "train_geo_paths"
   ]
  },
  {
   "cell_type": "code",
   "execution_count": 294,
   "metadata": {},
   "outputs": [
    {
     "data": {
      "text/plain": [
       "id                                                        7a2b59f4\n",
       "roof_material                                        healthy_metal\n",
       "verified                                                      True\n",
       "geometry         POLYGON ((592620.3177654418 502865.8452676701,...\n",
       "iteration                                                        5\n",
       "location                                            Colombia_rural\n",
       "epsg                                                    EPSG:32618\n",
       "set                                                          train\n",
       "Name: 2403, dtype: object"
      ]
     },
     "execution_count": 294,
     "metadata": {},
     "output_type": "execute_result"
    }
   ],
   "source": [
    "verified_train.iloc[4514]"
   ]
  },
  {
   "cell_type": "code",
   "execution_count": 295,
   "metadata": {},
   "outputs": [
    {
     "data": {
      "text/plain": [
       "['7a20a57c',\n",
       " '7a1da264',\n",
       " '7a1da264',\n",
       " '7a1da264',\n",
       " '7a1da264',\n",
       " '7a1da264',\n",
       " '7a1da264']"
      ]
     },
     "execution_count": 295,
     "metadata": {},
     "output_type": "execute_result"
    }
   ],
   "source": [
    "vtrain_render_issues"
   ]
  },
  {
   "cell_type": "code",
   "execution_count": 287,
   "metadata": {},
   "outputs": [
    {
     "data": {
      "text/html": [
       "<div>\n",
       "<style scoped>\n",
       "    .dataframe tbody tr th:only-of-type {\n",
       "        vertical-align: middle;\n",
       "    }\n",
       "\n",
       "    .dataframe tbody tr th {\n",
       "        vertical-align: top;\n",
       "    }\n",
       "\n",
       "    .dataframe thead th {\n",
       "        text-align: right;\n",
       "    }\n",
       "</style>\n",
       "<table border=\"1\" class=\"dataframe\">\n",
       "  <thead>\n",
       "    <tr style=\"text-align: right;\">\n",
       "      <th></th>\n",
       "      <th>id</th>\n",
       "      <th>roof_material</th>\n",
       "      <th>verified</th>\n",
       "      <th>geometry</th>\n",
       "    </tr>\n",
       "  </thead>\n",
       "  <tbody>\n",
       "    <tr>\n",
       "      <th>0</th>\n",
       "      <td>7a314698</td>\n",
       "      <td>concrete_cement</td>\n",
       "      <td>True</td>\n",
       "      <td>POLYGON ((-90.58355 14.62727, -90.58353 14.627...</td>\n",
       "    </tr>\n",
       "    <tr>\n",
       "      <th>1</th>\n",
       "      <td>7a30b066</td>\n",
       "      <td>concrete_cement</td>\n",
       "      <td>True</td>\n",
       "      <td>POLYGON ((-90.58346 14.62740, -90.58340 14.627...</td>\n",
       "    </tr>\n",
       "    <tr>\n",
       "      <th>2</th>\n",
       "      <td>7a1ce13a</td>\n",
       "      <td>concrete_cement</td>\n",
       "      <td>True</td>\n",
       "      <td>POLYGON ((-90.58342 14.62725, -90.58341 14.627...</td>\n",
       "    </tr>\n",
       "    <tr>\n",
       "      <th>3</th>\n",
       "      <td>7a2f9712</td>\n",
       "      <td>concrete_cement</td>\n",
       "      <td>True</td>\n",
       "      <td>POLYGON ((-90.58293 14.62739, -90.58279 14.627...</td>\n",
       "    </tr>\n",
       "    <tr>\n",
       "      <th>4</th>\n",
       "      <td>7a416e42</td>\n",
       "      <td>concrete_cement</td>\n",
       "      <td>True</td>\n",
       "      <td>POLYGON ((-90.58279 14.62729, -90.58277 14.627...</td>\n",
       "    </tr>\n",
       "    <tr>\n",
       "      <th>5</th>\n",
       "      <td>7a1cb34a</td>\n",
       "      <td>concrete_cement</td>\n",
       "      <td>True</td>\n",
       "      <td>POLYGON ((-90.58230 14.62710, -90.58229 14.627...</td>\n",
       "    </tr>\n",
       "    <tr>\n",
       "      <th>6</th>\n",
       "      <td>7a3978d6</td>\n",
       "      <td>concrete_cement</td>\n",
       "      <td>True</td>\n",
       "      <td>POLYGON ((-90.58242 14.62709, -90.58246 14.627...</td>\n",
       "    </tr>\n",
       "    <tr>\n",
       "      <th>7</th>\n",
       "      <td>7a26e7d4</td>\n",
       "      <td>concrete_cement</td>\n",
       "      <td>True</td>\n",
       "      <td>POLYGON ((-90.58269 14.62691, -90.58268 14.626...</td>\n",
       "    </tr>\n",
       "    <tr>\n",
       "      <th>8</th>\n",
       "      <td>7a35d23a</td>\n",
       "      <td>concrete_cement</td>\n",
       "      <td>True</td>\n",
       "      <td>POLYGON ((-90.58235 14.62671, -90.58234 14.626...</td>\n",
       "    </tr>\n",
       "    <tr>\n",
       "      <th>9</th>\n",
       "      <td>7a3eef3c</td>\n",
       "      <td>concrete_cement</td>\n",
       "      <td>True</td>\n",
       "      <td>POLYGON ((-90.58296 14.62675, -90.58303 14.626...</td>\n",
       "    </tr>\n",
       "  </tbody>\n",
       "</table>\n",
       "</div>"
      ],
      "text/plain": [
       "         id    roof_material  verified  \\\n",
       "0  7a314698  concrete_cement      True   \n",
       "1  7a30b066  concrete_cement      True   \n",
       "2  7a1ce13a  concrete_cement      True   \n",
       "3  7a2f9712  concrete_cement      True   \n",
       "4  7a416e42  concrete_cement      True   \n",
       "5  7a1cb34a  concrete_cement      True   \n",
       "6  7a3978d6  concrete_cement      True   \n",
       "7  7a26e7d4  concrete_cement      True   \n",
       "8  7a35d23a  concrete_cement      True   \n",
       "9  7a3eef3c  concrete_cement      True   \n",
       "\n",
       "                                            geometry  \n",
       "0  POLYGON ((-90.58355 14.62727, -90.58353 14.627...  \n",
       "1  POLYGON ((-90.58346 14.62740, -90.58340 14.627...  \n",
       "2  POLYGON ((-90.58342 14.62725, -90.58341 14.627...  \n",
       "3  POLYGON ((-90.58293 14.62739, -90.58279 14.627...  \n",
       "4  POLYGON ((-90.58279 14.62729, -90.58277 14.627...  \n",
       "5  POLYGON ((-90.58230 14.62710, -90.58229 14.627...  \n",
       "6  POLYGON ((-90.58242 14.62709, -90.58246 14.627...  \n",
       "7  POLYGON ((-90.58269 14.62691, -90.58268 14.626...  \n",
       "8  POLYGON ((-90.58235 14.62671, -90.58234 14.626...  \n",
       "9  POLYGON ((-90.58296 14.62675, -90.58303 14.626...  "
      ]
     },
     "execution_count": 287,
     "metadata": {},
     "output_type": "execute_result"
    }
   ],
   "source": [
    "mixco_1_geometries = gpd.read_file(train_geo_paths[0])\n",
    "mixco_1geometries = mixco_1_geometries.to_crs(crs = {\"init\" : \"EPSG:32616\"})\n",
    "mixco_1_geometries.head(10)"
   ]
  },
  {
   "cell_type": "code",
   "execution_count": 288,
   "metadata": {},
   "outputs": [
    {
     "data": {
      "text/plain": [
       "{'type': 'Polygon',\n",
       " 'coordinates': (((-90.58472852321368, 14.621859511413085),\n",
       "   (-90.58473399099616, 14.621862244695354),\n",
       "   (-90.5847263982057, 14.621886255305391),\n",
       "   (-90.58467054080991, 14.621882999576226),\n",
       "   (-90.58467539483746, 14.62185806837531),\n",
       "   (-90.58472852321368, 14.621859511413085)),)}"
      ]
     },
     "execution_count": 288,
     "metadata": {},
     "output_type": "execute_result"
    }
   ],
   "source": [
    "np.random.seed(1017)\n",
    "rand_int = np.random.randint(0, len(mixco_1_geometries))\n",
    "coord = mapping(mixco_1_geometries)[\"features\"][rand_int][\"geometry\"]\n",
    "coord"
   ]
  },
  {
   "cell_type": "code",
   "execution_count": 290,
   "metadata": {},
   "outputs": [
    {
     "data": {
      "text/plain": [
       "array(['stac/guatemala/mixco_1_and_ebenezer/mixco_1_and_ebenezer_ortho-cog.tif',\n",
       "       'stac/guatemala/mixco_3/mixco_3_ortho-cog.tif',\n",
       "       'stac/st_lucia/castries/castries_ortho-cog.tif',\n",
       "       'stac/st_lucia/dennery/dennery_ortho-cog.tif',\n",
       "       'stac/st_lucia/gros_islet/gros_islet_ortho-cog.tif',\n",
       "       'stac/colombia/borde_rural/borde_rural_ortho-cog.tif',\n",
       "       'stac/colombia/borde_soacha/borde_soacha_ortho-cog.tif'],\n",
       "      dtype=object)"
      ]
     },
     "execution_count": 290,
     "metadata": {},
     "output_type": "execute_result"
    }
   ],
   "source": [
    "tiff_paths"
   ]
  },
  {
   "cell_type": "code",
   "execution_count": 289,
   "metadata": {},
   "outputs": [
    {
     "ename": "ValueError",
     "evalue": "Input shapes do not overlap raster.",
     "output_type": "error",
     "traceback": [
      "\u001b[1;31m---------------------------------------------------------------------------\u001b[0m",
      "\u001b[1;31mWindowError\u001b[0m                               Traceback (most recent call last)",
      "\u001b[1;32m~\\Anaconda3\\lib\\site-packages\\rasterio\\mask.py\u001b[0m in \u001b[0;36mraster_geometry_mask\u001b[1;34m(dataset, shapes, all_touched, invert, crop, pad, pad_width)\u001b[0m\n\u001b[0;32m     83\u001b[0m         window = geometry_window(dataset, shapes, north_up=north_up, rotated=rotated,\n\u001b[1;32m---> 84\u001b[1;33m                                  pad_x=pad_x, pad_y=pad_y)\n\u001b[0m\u001b[0;32m     85\u001b[0m \u001b[1;33m\u001b[0m\u001b[0m\n",
      "\u001b[1;32m~\\Anaconda3\\lib\\site-packages\\rasterio\\features.py\u001b[0m in \u001b[0;36mgeometry_window\u001b[1;34m(dataset, shapes, pad_x, pad_y, north_up, rotated, pixel_precision)\u001b[0m\n\u001b[0;32m    455\u001b[0m     \u001b[1;31m# This will raise a WindowError if windows do not overlap\u001b[0m\u001b[1;33m\u001b[0m\u001b[1;33m\u001b[0m\u001b[1;33m\u001b[0m\u001b[0m\n\u001b[1;32m--> 456\u001b[1;33m     \u001b[0mwindow\u001b[0m \u001b[1;33m=\u001b[0m \u001b[0mwindow\u001b[0m\u001b[1;33m.\u001b[0m\u001b[0mintersection\u001b[0m\u001b[1;33m(\u001b[0m\u001b[0mraster_window\u001b[0m\u001b[1;33m)\u001b[0m\u001b[1;33m\u001b[0m\u001b[1;33m\u001b[0m\u001b[0m\n\u001b[0m\u001b[0;32m    457\u001b[0m \u001b[1;33m\u001b[0m\u001b[0m\n",
      "\u001b[1;32m~\\Anaconda3\\lib\\site-packages\\rasterio\\windows.py\u001b[0m in \u001b[0;36mintersection\u001b[1;34m(self, other)\u001b[0m\n\u001b[0;32m    714\u001b[0m         \"\"\"\n\u001b[1;32m--> 715\u001b[1;33m         \u001b[1;32mreturn\u001b[0m \u001b[0mintersection\u001b[0m\u001b[1;33m(\u001b[0m\u001b[1;33m[\u001b[0m\u001b[0mself\u001b[0m\u001b[1;33m,\u001b[0m \u001b[0mother\u001b[0m\u001b[1;33m]\u001b[0m\u001b[1;33m)\u001b[0m\u001b[1;33m\u001b[0m\u001b[1;33m\u001b[0m\u001b[0m\n\u001b[0m",
      "\u001b[1;32m~\\Anaconda3\\lib\\site-packages\\rasterio\\windows.py\u001b[0m in \u001b[0;36mwrapper\u001b[1;34m(*args, **kwargs)\u001b[0m\n\u001b[0;32m    118\u001b[0m         \u001b[1;32mif\u001b[0m \u001b[0mlen\u001b[0m\u001b[1;33m(\u001b[0m\u001b[0margs\u001b[0m\u001b[1;33m)\u001b[0m \u001b[1;33m==\u001b[0m \u001b[1;36m1\u001b[0m \u001b[1;32mand\u001b[0m \u001b[0misinstance\u001b[0m\u001b[1;33m(\u001b[0m\u001b[0margs\u001b[0m\u001b[1;33m[\u001b[0m\u001b[1;36m0\u001b[0m\u001b[1;33m]\u001b[0m\u001b[1;33m,\u001b[0m \u001b[0mIterable\u001b[0m\u001b[1;33m)\u001b[0m\u001b[1;33m:\u001b[0m\u001b[1;33m\u001b[0m\u001b[1;33m\u001b[0m\u001b[0m\n\u001b[1;32m--> 119\u001b[1;33m             \u001b[1;32mreturn\u001b[0m \u001b[0mfunction\u001b[0m\u001b[1;33m(\u001b[0m\u001b[1;33m*\u001b[0m\u001b[0margs\u001b[0m\u001b[1;33m[\u001b[0m\u001b[1;36m0\u001b[0m\u001b[1;33m]\u001b[0m\u001b[1;33m)\u001b[0m\u001b[1;33m\u001b[0m\u001b[1;33m\u001b[0m\u001b[0m\n\u001b[0m\u001b[0;32m    120\u001b[0m         \u001b[1;32melse\u001b[0m\u001b[1;33m:\u001b[0m\u001b[1;33m\u001b[0m\u001b[1;33m\u001b[0m\u001b[0m\n",
      "\u001b[1;32m~\\Anaconda3\\lib\\site-packages\\rasterio\\windows.py\u001b[0m in \u001b[0;36mintersection\u001b[1;34m(*windows)\u001b[0m\n\u001b[0;32m    216\u001b[0m     \u001b[1;32mif\u001b[0m \u001b[1;32mnot\u001b[0m \u001b[0mintersect\u001b[0m\u001b[1;33m(\u001b[0m\u001b[0mwindows\u001b[0m\u001b[1;33m)\u001b[0m\u001b[1;33m:\u001b[0m\u001b[1;33m\u001b[0m\u001b[1;33m\u001b[0m\u001b[0m\n\u001b[1;32m--> 217\u001b[1;33m         \u001b[1;32mraise\u001b[0m \u001b[0mWindowError\u001b[0m\u001b[1;33m(\u001b[0m\u001b[1;34m\"windows do not intersect\"\u001b[0m\u001b[1;33m)\u001b[0m\u001b[1;33m\u001b[0m\u001b[1;33m\u001b[0m\u001b[0m\n\u001b[0m\u001b[0;32m    218\u001b[0m \u001b[1;33m\u001b[0m\u001b[0m\n",
      "\u001b[1;31mWindowError\u001b[0m: windows do not intersect",
      "\nDuring handling of the above exception, another exception occurred:\n",
      "\u001b[1;31mValueError\u001b[0m                                Traceback (most recent call last)",
      "\u001b[1;32m<ipython-input-289-61239d37a59a>\u001b[0m in \u001b[0;36m<module>\u001b[1;34m\u001b[0m\n\u001b[0;32m      6\u001b[0m                                    \u001b[0mpad\u001b[0m \u001b[1;33m=\u001b[0m \u001b[1;32mTrue\u001b[0m\u001b[1;33m,\u001b[0m\u001b[1;33m\u001b[0m\u001b[1;33m\u001b[0m\u001b[0m\n\u001b[0;32m      7\u001b[0m                                    \u001b[0mfilled\u001b[0m \u001b[1;33m=\u001b[0m \u001b[1;32mFalse\u001b[0m\u001b[1;33m,\u001b[0m\u001b[1;33m\u001b[0m\u001b[1;33m\u001b[0m\u001b[0m\n\u001b[1;32m----> 8\u001b[1;33m                                    pad_width = PADDING)\n\u001b[0m\u001b[0;32m      9\u001b[0m \u001b[0mroof_image\u001b[0m \u001b[1;33m=\u001b[0m \u001b[0mreshape_as_image\u001b[0m\u001b[1;33m(\u001b[0m\u001b[0mmasked_image\u001b[0m\u001b[1;33m)\u001b[0m\u001b[1;33m\u001b[0m\u001b[1;33m\u001b[0m\u001b[0m\n\u001b[0;32m     10\u001b[0m \u001b[0mroof_image\u001b[0m \u001b[1;33m=\u001b[0m \u001b[0mcv2\u001b[0m\u001b[1;33m.\u001b[0m\u001b[0mcvtColor\u001b[0m\u001b[1;33m(\u001b[0m\u001b[0mroof_image\u001b[0m\u001b[1;33m,\u001b[0m \u001b[0mcv2\u001b[0m\u001b[1;33m.\u001b[0m\u001b[0mCOLOR_RGB2BGR\u001b[0m\u001b[1;33m)\u001b[0m\u001b[1;33m\u001b[0m\u001b[1;33m\u001b[0m\u001b[0m\n",
      "\u001b[1;32m~\\Anaconda3\\lib\\site-packages\\rasterio\\mask.py\u001b[0m in \u001b[0;36mmask\u001b[1;34m(dataset, shapes, all_touched, invert, nodata, filled, crop, pad, pad_width, indexes)\u001b[0m\n\u001b[0;32m    182\u001b[0m     shape_mask, transform, window = raster_geometry_mask(\n\u001b[0;32m    183\u001b[0m         \u001b[0mdataset\u001b[0m\u001b[1;33m,\u001b[0m \u001b[0mshapes\u001b[0m\u001b[1;33m,\u001b[0m \u001b[0mall_touched\u001b[0m\u001b[1;33m=\u001b[0m\u001b[0mall_touched\u001b[0m\u001b[1;33m,\u001b[0m \u001b[0minvert\u001b[0m\u001b[1;33m=\u001b[0m\u001b[0minvert\u001b[0m\u001b[1;33m,\u001b[0m \u001b[0mcrop\u001b[0m\u001b[1;33m=\u001b[0m\u001b[0mcrop\u001b[0m\u001b[1;33m,\u001b[0m\u001b[1;33m\u001b[0m\u001b[1;33m\u001b[0m\u001b[0m\n\u001b[1;32m--> 184\u001b[1;33m         pad=pad, pad_width=pad_width)\n\u001b[0m\u001b[0;32m    185\u001b[0m \u001b[1;33m\u001b[0m\u001b[0m\n\u001b[0;32m    186\u001b[0m     \u001b[1;32mif\u001b[0m \u001b[0mindexes\u001b[0m \u001b[1;32mis\u001b[0m \u001b[1;32mNone\u001b[0m\u001b[1;33m:\u001b[0m\u001b[1;33m\u001b[0m\u001b[1;33m\u001b[0m\u001b[0m\n",
      "\u001b[1;32m~\\Anaconda3\\lib\\site-packages\\rasterio\\mask.py\u001b[0m in \u001b[0;36mraster_geometry_mask\u001b[1;34m(dataset, shapes, all_touched, invert, crop, pad, pad_width)\u001b[0m\n\u001b[0;32m     88\u001b[0m         \u001b[1;31m# depending on value of crop\u001b[0m\u001b[1;33m\u001b[0m\u001b[1;33m\u001b[0m\u001b[1;33m\u001b[0m\u001b[0m\n\u001b[0;32m     89\u001b[0m         \u001b[1;32mif\u001b[0m \u001b[0mcrop\u001b[0m\u001b[1;33m:\u001b[0m\u001b[1;33m\u001b[0m\u001b[1;33m\u001b[0m\u001b[0m\n\u001b[1;32m---> 90\u001b[1;33m             \u001b[1;32mraise\u001b[0m \u001b[0mValueError\u001b[0m\u001b[1;33m(\u001b[0m\u001b[1;34m'Input shapes do not overlap raster.'\u001b[0m\u001b[1;33m)\u001b[0m\u001b[1;33m\u001b[0m\u001b[1;33m\u001b[0m\u001b[0m\n\u001b[0m\u001b[0;32m     91\u001b[0m         \u001b[1;32melse\u001b[0m\u001b[1;33m:\u001b[0m\u001b[1;33m\u001b[0m\u001b[1;33m\u001b[0m\u001b[0m\n\u001b[0;32m     92\u001b[0m             warnings.warn('shapes are outside bounds of raster. '\n",
      "\u001b[1;31mValueError\u001b[0m: Input shapes do not overlap raster."
     ]
    }
   ],
   "source": [
    "PADDING = 1\n",
    "mixco_1_tiff = rasterio.open(tiff_paths[0])\n",
    "\n",
    "masked_image, out_transform = mask(mixco_1_tiff, [coord], \n",
    "                                   crop = True, \n",
    "                                   pad = True,\n",
    "                                   filled = False, \n",
    "                                   pad_width = PADDING)\n",
    "roof_image = reshape_as_image(masked_image)\n",
    "roof_image = cv2.cvtColor(roof_image, cv2.COLOR_RGB2BGR)\n",
    "\n",
    "print(\"Image roof type:\", mixco_1_geometries.iloc[rand_int].roof_material)\n",
    "plt.imshow(roof_image)"
   ]
  },
  {
   "cell_type": "code",
   "execution_count": 244,
   "metadata": {},
   "outputs": [
    {
     "name": "stdout",
     "output_type": "stream",
     "text": [
      "Starting loop for train EPSG:32616, iteration 1\n",
      "Starting loop for train EPSG:32616, iteration 2\n",
      "Starting loop for train EPSG:32620, iteration 3\n",
      "Starting loop for train EPSG:32620, iteration 4\n",
      "Starting loop for train EPSG:32620, iteration 5\n",
      "Starting loop for train EPSG:32618, iteration 6\n",
      "Starting loop for train EPSG:32618, iteration 7\n",
      "Starting loop for test EPSG:32616, iteration 1\n",
      "Starting loop for test EPSG:32616, iteration 2\n",
      "Starting loop for test EPSG:32620, iteration 3\n",
      "Starting loop for test EPSG:32618, iteration 4\n",
      "Starting loop for test EPSG:32618, iteration 5\n"
     ]
    },
    {
     "data": {
      "text/html": [
       "<div>\n",
       "<style scoped>\n",
       "    .dataframe tbody tr th:only-of-type {\n",
       "        vertical-align: middle;\n",
       "    }\n",
       "\n",
       "    .dataframe tbody tr th {\n",
       "        vertical-align: top;\n",
       "    }\n",
       "\n",
       "    .dataframe thead th {\n",
       "        text-align: right;\n",
       "    }\n",
       "</style>\n",
       "<table border=\"1\" class=\"dataframe\">\n",
       "  <thead>\n",
       "    <tr style=\"text-align: right;\">\n",
       "      <th></th>\n",
       "      <th>id</th>\n",
       "      <th>roof_material</th>\n",
       "      <th>verified</th>\n",
       "      <th>geometry</th>\n",
       "      <th>iteration</th>\n",
       "      <th>location</th>\n",
       "      <th>epsg</th>\n",
       "      <th>set</th>\n",
       "    </tr>\n",
       "  </thead>\n",
       "  <tbody>\n",
       "    <tr>\n",
       "      <th>0</th>\n",
       "      <td>7a407f5a</td>\n",
       "      <td>healthy_metal</td>\n",
       "      <td>True</td>\n",
       "      <td>POLYGON ((591990.189 505536.478, 592002.866 50...</td>\n",
       "      <td>6</td>\n",
       "      <td>Colombia_soacha</td>\n",
       "      <td>EPSG:32618</td>\n",
       "      <td>train</td>\n",
       "    </tr>\n",
       "    <tr>\n",
       "      <th>1</th>\n",
       "      <td>7a29f6b8</td>\n",
       "      <td>healthy_metal</td>\n",
       "      <td>True</td>\n",
       "      <td>POLYGON ((591981.945 505525.417, 591984.309 50...</td>\n",
       "      <td>6</td>\n",
       "      <td>Colombia_soacha</td>\n",
       "      <td>EPSG:32618</td>\n",
       "      <td>train</td>\n",
       "    </tr>\n",
       "    <tr>\n",
       "      <th>2</th>\n",
       "      <td>7a3f90f4</td>\n",
       "      <td>healthy_metal</td>\n",
       "      <td>True</td>\n",
       "      <td>POLYGON ((591977.459 505539.295, 591984.056 50...</td>\n",
       "      <td>6</td>\n",
       "      <td>Colombia_soacha</td>\n",
       "      <td>EPSG:32618</td>\n",
       "      <td>train</td>\n",
       "    </tr>\n",
       "    <tr>\n",
       "      <th>3</th>\n",
       "      <td>7a3fe086</td>\n",
       "      <td>healthy_metal</td>\n",
       "      <td>True</td>\n",
       "      <td>POLYGON ((592004.692 505515.192, 592017.573 50...</td>\n",
       "      <td>6</td>\n",
       "      <td>Colombia_soacha</td>\n",
       "      <td>EPSG:32618</td>\n",
       "      <td>train</td>\n",
       "    </tr>\n",
       "    <tr>\n",
       "      <th>4</th>\n",
       "      <td>7a43babc</td>\n",
       "      <td>healthy_metal</td>\n",
       "      <td>True</td>\n",
       "      <td>POLYGON ((591986.954 505518.009, 591992.722 50...</td>\n",
       "      <td>6</td>\n",
       "      <td>Colombia_soacha</td>\n",
       "      <td>EPSG:32618</td>\n",
       "      <td>train</td>\n",
       "    </tr>\n",
       "    <tr>\n",
       "      <th>5</th>\n",
       "      <td>7a386716</td>\n",
       "      <td>irregular_metal</td>\n",
       "      <td>True</td>\n",
       "      <td>POLYGON ((591986.119 505511.540, 591998.393 50...</td>\n",
       "      <td>6</td>\n",
       "      <td>Colombia_soacha</td>\n",
       "      <td>EPSG:32618</td>\n",
       "      <td>train</td>\n",
       "    </tr>\n",
       "    <tr>\n",
       "      <th>6</th>\n",
       "      <td>7a30c2ea</td>\n",
       "      <td>healthy_metal</td>\n",
       "      <td>True</td>\n",
       "      <td>POLYGON ((591975.059 505526.461, 591988.202 50...</td>\n",
       "      <td>6</td>\n",
       "      <td>Colombia_soacha</td>\n",
       "      <td>EPSG:32618</td>\n",
       "      <td>train</td>\n",
       "    </tr>\n",
       "    <tr>\n",
       "      <th>7</th>\n",
       "      <td>7a277988</td>\n",
       "      <td>healthy_metal</td>\n",
       "      <td>True</td>\n",
       "      <td>POLYGON ((591988.415 505523.852, 592000.276 50...</td>\n",
       "      <td>6</td>\n",
       "      <td>Colombia_soacha</td>\n",
       "      <td>EPSG:32618</td>\n",
       "      <td>train</td>\n",
       "    </tr>\n",
       "    <tr>\n",
       "      <th>8</th>\n",
       "      <td>7a1e7d42</td>\n",
       "      <td>healthy_metal</td>\n",
       "      <td>True</td>\n",
       "      <td>POLYGON ((591971.928 505502.149, 591984.143 50...</td>\n",
       "      <td>6</td>\n",
       "      <td>Colombia_soacha</td>\n",
       "      <td>EPSG:32618</td>\n",
       "      <td>train</td>\n",
       "    </tr>\n",
       "    <tr>\n",
       "      <th>9</th>\n",
       "      <td>7a22b2fe</td>\n",
       "      <td>healthy_metal</td>\n",
       "      <td>True</td>\n",
       "      <td>POLYGON ((591984.345 505499.853, 591996.648 50...</td>\n",
       "      <td>6</td>\n",
       "      <td>Colombia_soacha</td>\n",
       "      <td>EPSG:32618</td>\n",
       "      <td>train</td>\n",
       "    </tr>\n",
       "  </tbody>\n",
       "</table>\n",
       "</div>"
      ],
      "text/plain": [
       "         id    roof_material  verified  \\\n",
       "0  7a407f5a    healthy_metal      True   \n",
       "1  7a29f6b8    healthy_metal      True   \n",
       "2  7a3f90f4    healthy_metal      True   \n",
       "3  7a3fe086    healthy_metal      True   \n",
       "4  7a43babc    healthy_metal      True   \n",
       "5  7a386716  irregular_metal      True   \n",
       "6  7a30c2ea    healthy_metal      True   \n",
       "7  7a277988    healthy_metal      True   \n",
       "8  7a1e7d42    healthy_metal      True   \n",
       "9  7a22b2fe    healthy_metal      True   \n",
       "\n",
       "                                            geometry  iteration  \\\n",
       "0  POLYGON ((591990.189 505536.478, 592002.866 50...          6   \n",
       "1  POLYGON ((591981.945 505525.417, 591984.309 50...          6   \n",
       "2  POLYGON ((591977.459 505539.295, 591984.056 50...          6   \n",
       "3  POLYGON ((592004.692 505515.192, 592017.573 50...          6   \n",
       "4  POLYGON ((591986.954 505518.009, 591992.722 50...          6   \n",
       "5  POLYGON ((591986.119 505511.540, 591998.393 50...          6   \n",
       "6  POLYGON ((591975.059 505526.461, 591988.202 50...          6   \n",
       "7  POLYGON ((591988.415 505523.852, 592000.276 50...          6   \n",
       "8  POLYGON ((591971.928 505502.149, 591984.143 50...          6   \n",
       "9  POLYGON ((591984.345 505499.853, 591996.648 50...          6   \n",
       "\n",
       "          location        epsg    set  \n",
       "0  Colombia_soacha  EPSG:32618  train  \n",
       "1  Colombia_soacha  EPSG:32618  train  \n",
       "2  Colombia_soacha  EPSG:32618  train  \n",
       "3  Colombia_soacha  EPSG:32618  train  \n",
       "4  Colombia_soacha  EPSG:32618  train  \n",
       "5  Colombia_soacha  EPSG:32618  train  \n",
       "6  Colombia_soacha  EPSG:32618  train  \n",
       "7  Colombia_soacha  EPSG:32618  train  \n",
       "8  Colombia_soacha  EPSG:32618  train  \n",
       "9  Colombia_soacha  EPSG:32618  train  "
      ]
     },
     "execution_count": 244,
     "metadata": {},
     "output_type": "execute_result"
    }
   ],
   "source": [
    "train_epsg = [\"EPSG:32616\", \"EPSG:32616\", \"EPSG:32620\", \"EPSG:32620\", \"EPSG:32620\", \"EPSG:32618\", \"EPSG:32618\"]\n",
    "train_places = [\"Guat_mixco_1\", \"Guat_mixco_3\", \"St_Lucia_castries\", \"St_Lucia_dennery\", \"St_Lucia_gros\",\n",
    "                \"Colombia_rural\", \"Colombia_soacha\"]\n",
    "\n",
    "test_epsg = [\"EPSG:32616\", \"EPSG:32616\", \"EPSG:32620\", \"EPSG:32618\", \"EPSG:32618\"]\n",
    "test_places = [\"Guat_mixco_1\", \"Guat_mixco_3\", \"St_Lucia_dennery\", \"Colombia_rural\", \"Colombia_soacha\"]\n",
    "\n",
    "def geometry_parse(epsg_list, paths, places, set):\n",
    "    \n",
    "    set_geometries = pd.DataFrame()\n",
    "    \n",
    "    for num, epsg in enumerate(epsg_list):\n",
    "        print(\"Starting loop for {} {}, iteration {}\".format(set, epsg, num + 1))\n",
    "        roof_geometries = gpd.read_file(paths[num])\n",
    "        roof_geometries = roof_geometries.to_crs(crs = {\"init\" : epsg})\n",
    "        roof_geometries[\"iteration\"] = num\n",
    "        roof_geometries[\"location\"] = places[num]\n",
    "        roof_geometries[\"epsg\"] = epsg\n",
    "        roof_geometries[\"set\"] = str(set)\n",
    "        set_geometries = pd.concat([roof_geometries, set_geometries], axis = 0)\n",
    "        \n",
    "    return(set_geometries)\n",
    "\n",
    "train_geometries = geometry_parse(epsg_list = train_epsg, \n",
    "                                  paths = train_geo_paths, places = train_places, set = \"train\")\n",
    "test_geometries = geometry_parse(epsg_list = test_epsg, \n",
    "                                 paths = train_geo_paths, places = test_places, set = \"test\")\n",
    "all_geometries = pd.concat([train_geometries, test_geometries], axis = 0)\n",
    "all_geometries.head(10)"
   ]
  },
  {
   "cell_type": "code",
   "execution_count": 166,
   "metadata": {},
   "outputs": [],
   "source": [
    "#del train_geometries, test_geometries, all_geometries"
   ]
  },
  {
   "cell_type": "code",
   "execution_count": 246,
   "metadata": {},
   "outputs": [
    {
     "data": {
      "text/html": [
       "<div>\n",
       "<style scoped>\n",
       "    .dataframe tbody tr th:only-of-type {\n",
       "        vertical-align: middle;\n",
       "    }\n",
       "\n",
       "    .dataframe tbody tr th {\n",
       "        vertical-align: top;\n",
       "    }\n",
       "\n",
       "    .dataframe thead th {\n",
       "        text-align: right;\n",
       "    }\n",
       "</style>\n",
       "<table border=\"1\" class=\"dataframe\">\n",
       "  <thead>\n",
       "    <tr style=\"text-align: right;\">\n",
       "      <th></th>\n",
       "      <th>train_roof_n</th>\n",
       "      <th>test_roof_n</th>\n",
       "    </tr>\n",
       "  </thead>\n",
       "  <tbody>\n",
       "    <tr>\n",
       "      <th>concrete_cement</th>\n",
       "      <td>1518</td>\n",
       "      <td>1021</td>\n",
       "    </tr>\n",
       "    <tr>\n",
       "      <th>healthy_metal</th>\n",
       "      <td>14817</td>\n",
       "      <td>9273</td>\n",
       "    </tr>\n",
       "    <tr>\n",
       "      <th>incomplete</th>\n",
       "      <td>669</td>\n",
       "      <td>9</td>\n",
       "    </tr>\n",
       "    <tr>\n",
       "      <th>irregular_metal</th>\n",
       "      <td>5241</td>\n",
       "      <td>1609</td>\n",
       "    </tr>\n",
       "    <tr>\n",
       "      <th>other</th>\n",
       "      <td>308</td>\n",
       "      <td>285</td>\n",
       "    </tr>\n",
       "  </tbody>\n",
       "</table>\n",
       "</div>"
      ],
      "text/plain": [
       "                 train_roof_n  test_roof_n\n",
       "concrete_cement          1518         1021\n",
       "healthy_metal           14817         9273\n",
       "incomplete                669            9\n",
       "irregular_metal          5241         1609\n",
       "other                     308          285"
      ]
     },
     "execution_count": 246,
     "metadata": {},
     "output_type": "execute_result"
    }
   ],
   "source": [
    "# values match numbers given by competition page\n",
    "\n",
    "pd.DataFrame({\n",
    "    \"train_roof_n\": train_geometries[\"roof_material\"].value_counts(),\n",
    "    \"test_roof_n\": test_geometries[\"roof_material\"].value_counts()\n",
    "})"
   ]
  },
  {
   "cell_type": "code",
   "execution_count": 205,
   "metadata": {},
   "outputs": [
    {
     "data": {
      "text/html": [
       "<div>\n",
       "<style scoped>\n",
       "    .dataframe tbody tr th:only-of-type {\n",
       "        vertical-align: middle;\n",
       "    }\n",
       "\n",
       "    .dataframe tbody tr th {\n",
       "        vertical-align: top;\n",
       "    }\n",
       "\n",
       "    .dataframe thead th {\n",
       "        text-align: right;\n",
       "    }\n",
       "</style>\n",
       "<table border=\"1\" class=\"dataframe\">\n",
       "  <thead>\n",
       "    <tr style=\"text-align: right;\">\n",
       "      <th></th>\n",
       "      <th>id</th>\n",
       "      <th>roof_material</th>\n",
       "      <th>verified</th>\n",
       "      <th>geometry</th>\n",
       "      <th>iteration</th>\n",
       "      <th>location</th>\n",
       "      <th>epsg</th>\n",
       "      <th>set</th>\n",
       "    </tr>\n",
       "  </thead>\n",
       "  <tbody>\n",
       "    <tr>\n",
       "      <th>3350</th>\n",
       "      <td>7a1da264</td>\n",
       "      <td>healthy_metal</td>\n",
       "      <td>True</td>\n",
       "      <td>POLYGON ((113953.990 1619599.897, 113955.798 1...</td>\n",
       "      <td>0</td>\n",
       "      <td>Guat_mixco_1</td>\n",
       "      <td>EPSG:32616</td>\n",
       "      <td>train</td>\n",
       "    </tr>\n",
       "    <tr>\n",
       "      <th>1119</th>\n",
       "      <td>7a1d616e</td>\n",
       "      <td>irregular_metal</td>\n",
       "      <td>True</td>\n",
       "      <td>POLYGON ((113510.706 1619831.498, 113519.086 1...</td>\n",
       "      <td>0</td>\n",
       "      <td>Guat_mixco_1</td>\n",
       "      <td>EPSG:32616</td>\n",
       "      <td>train</td>\n",
       "    </tr>\n",
       "    <tr>\n",
       "      <th>1118</th>\n",
       "      <td>7a372a04</td>\n",
       "      <td>irregular_metal</td>\n",
       "      <td>True</td>\n",
       "      <td>POLYGON ((113508.948 1619828.819, 113518.377 1...</td>\n",
       "      <td>0</td>\n",
       "      <td>Guat_mixco_1</td>\n",
       "      <td>EPSG:32616</td>\n",
       "      <td>train</td>\n",
       "    </tr>\n",
       "    <tr>\n",
       "      <th>1117</th>\n",
       "      <td>7a2ba1ac</td>\n",
       "      <td>irregular_metal</td>\n",
       "      <td>True</td>\n",
       "      <td>POLYGON ((113512.428 1619823.017, 113519.974 1...</td>\n",
       "      <td>0</td>\n",
       "      <td>Guat_mixco_1</td>\n",
       "      <td>EPSG:32616</td>\n",
       "      <td>train</td>\n",
       "    </tr>\n",
       "    <tr>\n",
       "      <th>1116</th>\n",
       "      <td>7a40fc28</td>\n",
       "      <td>irregular_metal</td>\n",
       "      <td>True</td>\n",
       "      <td>POLYGON ((113521.212 1619826.418, 113527.283 1...</td>\n",
       "      <td>0</td>\n",
       "      <td>Guat_mixco_1</td>\n",
       "      <td>EPSG:32616</td>\n",
       "      <td>train</td>\n",
       "    </tr>\n",
       "  </tbody>\n",
       "</table>\n",
       "</div>"
      ],
      "text/plain": [
       "            id    roof_material  verified  \\\n",
       "3350  7a1da264    healthy_metal      True   \n",
       "1119  7a1d616e  irregular_metal      True   \n",
       "1118  7a372a04  irregular_metal      True   \n",
       "1117  7a2ba1ac  irregular_metal      True   \n",
       "1116  7a40fc28  irregular_metal      True   \n",
       "\n",
       "                                               geometry  iteration  \\\n",
       "3350  POLYGON ((113953.990 1619599.897, 113955.798 1...          0   \n",
       "1119  POLYGON ((113510.706 1619831.498, 113519.086 1...          0   \n",
       "1118  POLYGON ((113508.948 1619828.819, 113518.377 1...          0   \n",
       "1117  POLYGON ((113512.428 1619823.017, 113519.974 1...          0   \n",
       "1116  POLYGON ((113521.212 1619826.418, 113527.283 1...          0   \n",
       "\n",
       "          location        epsg    set  \n",
       "3350  Guat_mixco_1  EPSG:32616  train  \n",
       "1119  Guat_mixco_1  EPSG:32616  train  \n",
       "1118  Guat_mixco_1  EPSG:32616  train  \n",
       "1117  Guat_mixco_1  EPSG:32616  train  \n",
       "1116  Guat_mixco_1  EPSG:32616  train  "
      ]
     },
     "execution_count": 205,
     "metadata": {},
     "output_type": "execute_result"
    }
   ],
   "source": [
    "verified_train.head()"
   ]
  },
  {
   "cell_type": "code",
   "execution_count": 242,
   "metadata": {},
   "outputs": [
    {
     "data": {
      "text/plain": [
       "['testing', 'unverified_training', 'verified_training']"
      ]
     },
     "execution_count": 242,
     "metadata": {},
     "output_type": "execute_result"
    }
   ],
   "source": [
    "# separating verified/unverified images\n",
    "# adding new directory for all images\n",
    "\n",
    "verified_train = train_geometries[train_geometries.verified == True]\n",
    "unverified_train = train_geometries[train_geometries.verified == False]\n",
    "\n",
    "os.makedirs(\"C:/Users/Mark/OpenAI_Carribean/all_carribean_images\", exist_ok = True)\n",
    "\n",
    "verified_train_path = \"C:/Users/Mark/OpenAI_Carribean/all_carribean_images/verified_training\"\n",
    "unverified_train_path = \"C:/Users/Mark/OpenAI_Carribean/all_carribean_images/unverified_training\"\n",
    "test_path = \"C:/Users/Mark/OpenAI_Carribean/all_carribean_images/testing\"\n",
    "\n",
    "os.makedirs(verified_train_path, exist_ok = True)\n",
    "os.makedirs(unverified_train_path, exist_ok = True)\n",
    "os.makedirs(test_path, exist_ok = True)\n",
    "\n",
    "#os.listdir()\n",
    "\n",
    "os.listdir(\"all_carribean_images\")"
   ]
  },
  {
   "cell_type": "code",
   "execution_count": 284,
   "metadata": {},
   "outputs": [
    {
     "data": {
      "text/plain": [
       "array(['stac/guatemala/mixco_1_and_ebenezer/mixco_1_and_ebenezer_ortho-cog.tif',\n",
       "       'stac/guatemala/mixco_3/mixco_3_ortho-cog.tif',\n",
       "       'stac/st_lucia/castries/castries_ortho-cog.tif',\n",
       "       'stac/st_lucia/dennery/dennery_ortho-cog.tif',\n",
       "       'stac/st_lucia/gros_islet/gros_islet_ortho-cog.tif',\n",
       "       'stac/colombia/borde_rural/borde_rural_ortho-cog.tif',\n",
       "       'stac/colombia/borde_soacha/borde_soacha_ortho-cog.tif'],\n",
       "      dtype=object)"
      ]
     },
     "execution_count": 284,
     "metadata": {},
     "output_type": "execute_result"
    }
   ],
   "source": [
    "train_tiff_paths"
   ]
  },
  {
   "cell_type": "code",
   "execution_count": 286,
   "metadata": {},
   "outputs": [
    {
     "ename": "AttributeError",
     "evalue": "'NoneType' object has no attribute 'reset_index'",
     "output_type": "error",
     "traceback": [
      "\u001b[1;31m---------------------------------------------------------------------------\u001b[0m",
      "\u001b[1;31mAttributeError\u001b[0m                            Traceback (most recent call last)",
      "\u001b[1;32m<ipython-input-286-c59c4d2c1cea>\u001b[0m in \u001b[0;36m<module>\u001b[1;34m\u001b[0m\n\u001b[1;32m----> 1\u001b[1;33m \u001b[0mverified_train\u001b[0m\u001b[1;33m.\u001b[0m\u001b[0msort_values\u001b[0m\u001b[1;33m(\u001b[0m\u001b[0mby\u001b[0m \u001b[1;33m=\u001b[0m \u001b[1;33m[\u001b[0m\u001b[1;34m\"iteration\"\u001b[0m\u001b[1;33m]\u001b[0m\u001b[1;33m,\u001b[0m \u001b[0minplace\u001b[0m \u001b[1;33m=\u001b[0m \u001b[1;32mTrue\u001b[0m\u001b[1;33m)\u001b[0m\u001b[1;33m.\u001b[0m\u001b[0mreset_index\u001b[0m\u001b[1;33m(\u001b[0m\u001b[0minplace\u001b[0m \u001b[1;33m=\u001b[0m \u001b[1;32mTrue\u001b[0m\u001b[1;33m)\u001b[0m\u001b[1;33m\u001b[0m\u001b[1;33m\u001b[0m\u001b[0m\n\u001b[0m\u001b[0;32m      2\u001b[0m \u001b[0munverified_train\u001b[0m\u001b[1;33m.\u001b[0m\u001b[0msort_values\u001b[0m\u001b[1;33m(\u001b[0m\u001b[0mby\u001b[0m \u001b[1;33m=\u001b[0m \u001b[1;33m[\u001b[0m\u001b[1;34m\"iteration\"\u001b[0m\u001b[1;33m]\u001b[0m\u001b[1;33m,\u001b[0m \u001b[0minplace\u001b[0m \u001b[1;33m=\u001b[0m \u001b[1;32mTrue\u001b[0m\u001b[1;33m)\u001b[0m\u001b[1;33m.\u001b[0m\u001b[0mreset_index\u001b[0m\u001b[1;33m(\u001b[0m\u001b[0minplace\u001b[0m \u001b[1;33m=\u001b[0m \u001b[1;32mTrue\u001b[0m\u001b[1;33m)\u001b[0m\u001b[1;33m\u001b[0m\u001b[1;33m\u001b[0m\u001b[0m\n\u001b[0;32m      3\u001b[0m \u001b[0mtest_geometries\u001b[0m\u001b[1;33m.\u001b[0m\u001b[0msort_values\u001b[0m\u001b[1;33m(\u001b[0m\u001b[0mby\u001b[0m \u001b[1;33m=\u001b[0m \u001b[1;33m[\u001b[0m\u001b[1;34m\"iteration\"\u001b[0m\u001b[1;33m]\u001b[0m\u001b[1;33m,\u001b[0m \u001b[0minplace\u001b[0m \u001b[1;33m=\u001b[0m \u001b[1;32mTrue\u001b[0m\u001b[1;33m)\u001b[0m\u001b[1;33m.\u001b[0m\u001b[0mreset_index\u001b[0m\u001b[1;33m(\u001b[0m\u001b[0minplace\u001b[0m \u001b[1;33m=\u001b[0m \u001b[1;32mTrue\u001b[0m\u001b[1;33m)\u001b[0m\u001b[1;33m\u001b[0m\u001b[1;33m\u001b[0m\u001b[0m\n\u001b[0;32m      4\u001b[0m \u001b[1;33m\u001b[0m\u001b[0m\n\u001b[0;32m      5\u001b[0m \u001b[1;32mdef\u001b[0m \u001b[0mgeometry_to_image\u001b[0m\u001b[1;33m(\u001b[0m\u001b[0mset\u001b[0m\u001b[1;33m,\u001b[0m \u001b[0mtiff_path\u001b[0m\u001b[1;33m,\u001b[0m \u001b[0mimg_folder\u001b[0m\u001b[1;33m)\u001b[0m\u001b[1;33m:\u001b[0m\u001b[1;33m\u001b[0m\u001b[1;33m\u001b[0m\u001b[0m\n",
      "\u001b[1;31mAttributeError\u001b[0m: 'NoneType' object has no attribute 'reset_index'"
     ]
    }
   ],
   "source": [
    "verified_train.sort_values(by = [\"iteration\"], inplace = True)\n",
    "unverified_train.sort_values(by = [\"iteration\"], inplace = True)\n",
    "test_geometries.sort_values(by = [\"iteration\"], inplace = True)\n",
    "\n",
    "def geometry_to_image(set, tiff_path, img_folder):\n",
    "    \n",
    "    render_issues = []\n",
    "    image_dims = pd.DataFrame()\n",
    "       \n",
    "    for i in range(len(tiff_path)):\n",
    "        tiff = rasterio.open(tiff_path[i], \"r\")\n",
    "        \n",
    "        try:\n",
    "            for idx, row in set.iterrows():\n",
    "                coord = mapping(set)[\"features\"][idx][\"geometry\"]\n",
    "                masked_image, out_transform = mask(tiff, [coord],\n",
    "                                                   crop = True, \n",
    "                                                   pad = True,\n",
    "                                                   filled = False, \n",
    "                                                   pad_width = PADDING)\n",
    "                image = reshape_as_image(masked_image)\n",
    "                img_path = os.path.join(img_folder, str(row.id + \".png\"))\n",
    "                image = cv2.cvtColor(image, cv2.COLOR_RGB2BGR)\n",
    "                cv2.imwrite(img_path, image)\n",
    "\n",
    "                dimensions = pd.DataFrame({\n",
    "                    \"id\": row.id,\n",
    "                    \"width\": image.shape[0],\n",
    "                    \"height\": image.shape[1],\n",
    "                    \"channel\": image.shape[2],\n",
    "                }, index = [0])\n",
    "\n",
    "                image_dims = pd.concat([dimensions, image_dims], axis = 0)\n",
    "                \n",
    "        except Exception as e:\n",
    "            #print(e)\n",
    "            render_issues.append(row.id)\n",
    "            pass\n",
    "            \n",
    "    return(image_dims, render_issues)"
   ]
  },
  {
   "cell_type": "code",
   "execution_count": 264,
   "metadata": {},
   "outputs": [],
   "source": [
    "verified_train.sort_values(by = [\"iteration\"], inplace = True)\n",
    "unverified_train.sort_values(by = [\"iteration\"], inplace = True)\n",
    "test_geometries.sort_values(by = [\"iteration\"], inplace = True)\n",
    "\n",
    "def geometry_to_image(set, tiff_path, img_folder):\n",
    "    \n",
    "    image_dims = pd.DataFrame()\n",
    "    render_issues = []\n",
    "    \n",
    "    try:\n",
    "        for idx, row in set.iterrows():\n",
    "            tiff = rasterio.open(tiff_path[i], \"r\")\n",
    "            coord = mapping(set)[\"features\"][idx][\"geometry\"]\n",
    "            masked_image, out_transform = mask(tiff, [coord],\n",
    "                                               crop = True, \n",
    "                                               pad = True,\n",
    "                                               filled = False, \n",
    "                                               pad_width = PADDING)\n",
    "            image = reshape_as_image(masked_image)\n",
    "            img_path = os.path.join(img_folder, str(row.id + \".png\"))\n",
    "            image = cv2.cvtColor(image, cv2.COLOR_RGB2BGR)\n",
    "            cv2.imwrite(img_path, image)\n",
    "\n",
    "            dimensions = pd.DataFrame({\n",
    "                \"id\": row.id,\n",
    "                \"width\": image.shape[0],\n",
    "                \"height\": image.shape[1],\n",
    "                \"channel\": image.shape[2],\n",
    "            }, index = [0])\n",
    "\n",
    "            image_dims = pd.concat([dimensions, image_dims], axis = 0)\n",
    "            \n",
    "    except Exception as e:\n",
    "        #print(e)\n",
    "        render_issues.append(idx)\n",
    "        \n",
    "    return(image_dims, errors)"
   ]
  },
  {
   "cell_type": "code",
   "execution_count": null,
   "metadata": {},
   "outputs": [],
   "source": [
    "verified_train_dims = geometry_to_image(set = verified_train, \n",
    "                                        tiff_path = train_tiff_paths,\n",
    "                                        img_folder = verified_train_path)\n",
    "\n",
    "unverified_train_dims = geometry_to_image(set = unverified_train, \n",
    "                                          tiff_path = train_tiff_paths,\n",
    "                                          img_folder = unverified_train_path)\n",
    "\n",
    "test_dims = geometry_to_image(set = test_geometries, \n",
    "                              tiff_path = test_tiff_paths,\n",
    "                              img_folder = test_path)"
   ]
  },
  {
   "cell_type": "code",
   "execution_count": 253,
   "metadata": {},
   "outputs": [],
   "source": [
    "#4514 failed to render then stops\n",
    "verified_train_dims, vtrain_render_issues = geometry_to_image(set = verified_train, \n",
    "                                                              tiff_path = train_tiff_paths,\n",
    "                                                              img_folder = verified_train_path)"
   ]
  },
  {
   "cell_type": "code",
   "execution_count": 228,
   "metadata": {},
   "outputs": [],
   "source": [
    "#4514 failed to render then stops\n",
    "unverified_train_dims, unvtrain_render_issues = geometry_to_image(set = unverified_train, \n",
    "                                                                  tiff_path = train_tiff_paths,\n",
    "                                                                  img_folder = unverified_train_path)"
   ]
  },
  {
   "cell_type": "code",
   "execution_count": 263,
   "metadata": {},
   "outputs": [
    {
     "data": {
      "text/plain": [
       "healthy_metal      7381\n",
       "irregular_metal    5241\n",
       "concrete_cement    1387\n",
       "incomplete          668\n",
       "other               193\n",
       "Name: roof_material, dtype: int64"
      ]
     },
     "execution_count": 263,
     "metadata": {},
     "output_type": "execute_result"
    }
   ],
   "source": [
    "verified_train.roof_material.value_counts()"
   ]
  },
  {
   "cell_type": "code",
   "execution_count": 280,
   "metadata": {},
   "outputs": [
    {
     "data": {
      "text/plain": [
       "{'errors': ['7a254bae'], 'dim_df': Empty DataFrame\n",
       " Columns: []\n",
       " Index: []}"
      ]
     },
     "execution_count": 280,
     "metadata": {},
     "output_type": "execute_result"
    }
   ],
   "source": [
    "unverified_train_dims"
   ]
  },
  {
   "cell_type": "code",
   "execution_count": 231,
   "metadata": {},
   "outputs": [
    {
     "data": {
      "text/plain": [
       "(7683, 8)"
      ]
     },
     "execution_count": 231,
     "metadata": {},
     "output_type": "execute_result"
    }
   ],
   "source": [
    "unverified_train.shape"
   ]
  },
  {
   "cell_type": "code",
   "execution_count": 266,
   "metadata": {},
   "outputs": [],
   "source": [
    "test_dims, test_render_issues = geometry_to_image(set = test_geometries, \n",
    "                                                  tiff_path = test_tiff_paths,\n",
    "                                                  img_folder = test_path)"
   ]
  },
  {
   "cell_type": "code",
   "execution_count": 268,
   "metadata": {},
   "outputs": [
    {
     "data": {
      "text/plain": [
       "['7a28e412', '7a1da264', '7a1da264', '7a1da264', '7a1da264']"
      ]
     },
     "execution_count": 268,
     "metadata": {},
     "output_type": "execute_result"
    }
   ],
   "source": [
    "test_render_issues"
   ]
  },
  {
   "cell_type": "code",
   "execution_count": 281,
   "metadata": {},
   "outputs": [
    {
     "data": {
      "text/html": [
       "<div>\n",
       "<style scoped>\n",
       "    .dataframe tbody tr th:only-of-type {\n",
       "        vertical-align: middle;\n",
       "    }\n",
       "\n",
       "    .dataframe tbody tr th {\n",
       "        vertical-align: top;\n",
       "    }\n",
       "\n",
       "    .dataframe thead th {\n",
       "        text-align: right;\n",
       "    }\n",
       "</style>\n",
       "<table border=\"1\" class=\"dataframe\">\n",
       "  <thead>\n",
       "    <tr style=\"text-align: right;\">\n",
       "      <th></th>\n",
       "      <th>id</th>\n",
       "      <th>roof_material</th>\n",
       "      <th>verified</th>\n",
       "      <th>geometry</th>\n",
       "      <th>iteration</th>\n",
       "      <th>location</th>\n",
       "      <th>epsg</th>\n",
       "      <th>set</th>\n",
       "    </tr>\n",
       "  </thead>\n",
       "  <tbody>\n",
       "    <tr>\n",
       "      <th>3988</th>\n",
       "      <td>7a28e412</td>\n",
       "      <td>healthy_metal</td>\n",
       "      <td>False</td>\n",
       "      <td>POLYGON ((716464.626 1549593.239, 716468.789 1...</td>\n",
       "      <td>2</td>\n",
       "      <td>St_Lucia_dennery</td>\n",
       "      <td>EPSG:32620</td>\n",
       "      <td>test</td>\n",
       "    </tr>\n",
       "  </tbody>\n",
       "</table>\n",
       "</div>"
      ],
      "text/plain": [
       "            id  roof_material  verified  \\\n",
       "3988  7a28e412  healthy_metal     False   \n",
       "\n",
       "                                               geometry  iteration  \\\n",
       "3988  POLYGON ((716464.626 1549593.239, 716468.789 1...          2   \n",
       "\n",
       "              location        epsg   set  \n",
       "3988  St_Lucia_dennery  EPSG:32620  test  "
      ]
     },
     "execution_count": 281,
     "metadata": {},
     "output_type": "execute_result"
    }
   ],
   "source": [
    "test_render_issues\n",
    "test_geometries[test_geometries.id ==  \"7a28e412\"]"
   ]
  },
  {
   "cell_type": "code",
   "execution_count": 273,
   "metadata": {},
   "outputs": [
    {
     "data": {
      "text/plain": [
       "['7a28e412', '7a1da264', '7a1da264', '7a1da264', '7a1da264']"
      ]
     },
     "execution_count": 273,
     "metadata": {},
     "output_type": "execute_result"
    }
   ],
   "source": []
  },
  {
   "cell_type": "code",
   "execution_count": 270,
   "metadata": {},
   "outputs": [
    {
     "data": {
      "text/html": [
       "<div>\n",
       "<style scoped>\n",
       "    .dataframe tbody tr th:only-of-type {\n",
       "        vertical-align: middle;\n",
       "    }\n",
       "\n",
       "    .dataframe tbody tr th {\n",
       "        vertical-align: top;\n",
       "    }\n",
       "\n",
       "    .dataframe thead th {\n",
       "        text-align: right;\n",
       "    }\n",
       "</style>\n",
       "<table border=\"1\" class=\"dataframe\">\n",
       "  <thead>\n",
       "    <tr style=\"text-align: right;\">\n",
       "      <th></th>\n",
       "      <th>id</th>\n",
       "      <th>roof_material</th>\n",
       "      <th>verified</th>\n",
       "      <th>geometry</th>\n",
       "      <th>iteration</th>\n",
       "      <th>location</th>\n",
       "      <th>epsg</th>\n",
       "      <th>set</th>\n",
       "    </tr>\n",
       "  </thead>\n",
       "  <tbody>\n",
       "    <tr>\n",
       "      <th>3350</th>\n",
       "      <td>7a1da264</td>\n",
       "      <td>healthy_metal</td>\n",
       "      <td>True</td>\n",
       "      <td>POLYGON ((113953.990 1619599.897, 113955.798 1...</td>\n",
       "      <td>0</td>\n",
       "      <td>Guat_mixco_1</td>\n",
       "      <td>EPSG:32616</td>\n",
       "      <td>train</td>\n",
       "    </tr>\n",
       "  </tbody>\n",
       "</table>\n",
       "</div>"
      ],
      "text/plain": [
       "            id  roof_material  verified  \\\n",
       "3350  7a1da264  healthy_metal      True   \n",
       "\n",
       "                                               geometry  iteration  \\\n",
       "3350  POLYGON ((113953.990 1619599.897, 113955.798 1...          0   \n",
       "\n",
       "          location        epsg    set  \n",
       "3350  Guat_mixco_1  EPSG:32616  train  "
      ]
     },
     "execution_count": 270,
     "metadata": {},
     "output_type": "execute_result"
    }
   ],
   "source": [
    "error_look = verified_train[verified_train.id == \"7a1da264\"]\n",
    "error_look.head()"
   ]
  },
  {
   "cell_type": "code",
   "execution_count": 282,
   "metadata": {},
   "outputs": [
    {
     "data": {
      "text/plain": [
       "['7a20a57c',\n",
       " '7a1da264',\n",
       " '7a1da264',\n",
       " '7a1da264',\n",
       " '7a1da264',\n",
       " '7a1da264',\n",
       " '7a1da264']"
      ]
     },
     "execution_count": 282,
     "metadata": {},
     "output_type": "execute_result"
    }
   ],
   "source": [
    "vtrain_render_issues"
   ]
  },
  {
   "cell_type": "code",
   "execution_count": 241,
   "metadata": {},
   "outputs": [],
   "source": [
    "# to delete folder when needed\n",
    "import shutil\n",
    "shutil.rmtree(verified_train_path)"
   ]
  }
 ],
 "metadata": {
  "kernelspec": {
   "display_name": "Python 3",
   "language": "python",
   "name": "python3"
  },
  "language_info": {
   "codemirror_mode": {
    "name": "ipython",
    "version": 3
   },
   "file_extension": ".py",
   "mimetype": "text/x-python",
   "name": "python",
   "nbconvert_exporter": "python",
   "pygments_lexer": "ipython3",
   "version": "3.7.3"
  }
 },
 "nbformat": 4,
 "nbformat_minor": 2
}
